{
 "cells": [
  {
   "cell_type": "markdown",
   "metadata": {},
   "source": [
    "Wir wollen uns den CelebA Datensatz anschauen und analysieren: https://mmlab.ie.cuhk.edu.hk/projects/CelebA.html\n",
    "Dieser besteht aus 202,599 Fotos von Gesichtern von 10,177 verschiedenen Personen. Zunächst müssen wir die Datei downloaden und anschließend vorverarbeiten. Dazu die Datei img_celeba.7z downloaden und im selben Ordner wie dieses notebook speichern."
   ]
  },
  {
   "cell_type": "code",
   "execution_count": 1,
   "metadata": {},
   "outputs": [],
   "source": [
    "import re\n",
    "\n",
    "id2files = dict()\n",
    "with open('./identity_CelebA.txt', newline='\\n') as inp_file:\n",
    "    for line in inp_file:\n",
    "        parts = line.split()\n",
    "        if not parts[1] in id2files:\n",
    "            id2files[parts[1]] = []\n",
    "        id2files[parts[1]].append(parts[0])"
   ]
  },
  {
   "cell_type": "code",
   "execution_count": 2,
   "metadata": {},
   "outputs": [
    {
     "data": {
      "text/plain": [
       "(10177, 202599)"
      ]
     },
     "execution_count": 2,
     "metadata": {},
     "output_type": "execute_result"
    }
   ],
   "source": [
    "len(id2files), sum([len(value) for key, value in id2files.items()])"
   ]
  },
  {
   "cell_type": "code",
   "execution_count": 3,
   "metadata": {},
   "outputs": [
    {
     "ename": "FileNotFoundError",
     "evalue": "[Errno 2] No such file or directory: './img_celeba/000001.jpg' -> './img_celeba/2880/000001.jpg'",
     "output_type": "error",
     "traceback": [
      "\u001B[0;31m---------------------------------------------------------------------------\u001B[0m",
      "\u001B[0;31mFileNotFoundError\u001B[0m                         Traceback (most recent call last)",
      "\u001B[0;32m<ipython-input-3-16319c963efa>\u001B[0m in \u001B[0;36m<module>\u001B[0;34m\u001B[0m\n\u001B[1;32m      6\u001B[0m         \u001B[0mos\u001B[0m\u001B[0;34m.\u001B[0m\u001B[0mmakedirs\u001B[0m\u001B[0;34m(\u001B[0m\u001B[0mpath\u001B[0m\u001B[0;34m)\u001B[0m\u001B[0;34m\u001B[0m\u001B[0;34m\u001B[0m\u001B[0m\n\u001B[1;32m      7\u001B[0m     \u001B[0;32mfor\u001B[0m \u001B[0mfile\u001B[0m \u001B[0;32min\u001B[0m \u001B[0mid2files\u001B[0m\u001B[0;34m[\u001B[0m\u001B[0midentity\u001B[0m\u001B[0;34m]\u001B[0m\u001B[0;34m:\u001B[0m\u001B[0;34m\u001B[0m\u001B[0;34m\u001B[0m\u001B[0m\n\u001B[0;32m----> 8\u001B[0;31m         \u001B[0mos\u001B[0m\u001B[0;34m.\u001B[0m\u001B[0mrename\u001B[0m\u001B[0;34m(\u001B[0m\u001B[0mbase_path\u001B[0m\u001B[0;34m+\u001B[0m\u001B[0mfile\u001B[0m\u001B[0;34m,\u001B[0m \u001B[0mpath\u001B[0m\u001B[0;34m+\u001B[0m\u001B[0mfile\u001B[0m\u001B[0;34m)\u001B[0m\u001B[0;34m\u001B[0m\u001B[0;34m\u001B[0m\u001B[0m\n\u001B[0m",
      "\u001B[0;31mFileNotFoundError\u001B[0m: [Errno 2] No such file or directory: './img_celeba/000001.jpg' -> './img_celeba/2880/000001.jpg'"
     ]
    }
   ],
   "source": [
    "import os\n",
    "base_path = \"./img_celeba/\"\n",
    "for identity in id2files:\n",
    "    path = base_path + identity + '/'\n",
    "    if not os.path.exists(path):\n",
    "        os.makedirs(path)\n",
    "    for file in id2files[identity]:\n",
    "        os.rename(base_path+file, path+file)"
   ]
  },
  {
   "cell_type": "code",
   "execution_count": null,
   "metadata": {},
   "outputs": [],
   "source": []
  },
  {
   "cell_type": "code",
   "execution_count": 70,
   "metadata": {},
   "outputs": [],
   "source": [
    "import os\n",
    "for dirpath, dirs, files in os.walk(\"./img_celeba\"):\n",
    "    if not files:\n",
    "        continue\n",
    "    files_sizes = [(os.path.join(dirpath,f), os.path.getsize(os.path.join(dirpath,f))/1024) for f in files]\n",
    "    files_sizes = sorted(files_sizes, key=lambda x: x[1])\n",
    "    dels = files_sizes[5:]\n",
    "    for d in dels:\n",
    "        os.remove(d[0])"
   ]
  },
  {
   "cell_type": "code",
   "execution_count": 45,
   "metadata": {},
   "outputs": [
    {
     "data": {
      "text/plain": [
       "[]"
      ]
     },
     "execution_count": 45,
     "metadata": {},
     "output_type": "execute_result"
    }
   ],
   "source": [
    "res[1][1]"
   ]
  }
 ],
 "metadata": {
  "kernelspec": {
   "display_name": "Python 3",
   "language": "python",
   "name": "python3"
  },
  "language_info": {
   "codemirror_mode": {
    "name": "ipython",
    "version": 3
   },
   "file_extension": ".py",
   "mimetype": "text/x-python",
   "name": "python",
   "nbconvert_exporter": "python",
   "pygments_lexer": "ipython3",
   "version": "3.8.5"
  }
 },
 "nbformat": 4,
 "nbformat_minor": 2
}